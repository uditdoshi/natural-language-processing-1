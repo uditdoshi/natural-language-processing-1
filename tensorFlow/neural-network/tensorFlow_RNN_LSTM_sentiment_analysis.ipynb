{
  "cells": [
    {
      "cell_type": "markdown",
      "metadata": {
        "id": "zTDuLfp54eip"
      },
      "source": [
        "# Recurrent Neural Network"
      ]
    },
    {
      "cell_type": "code",
      "execution_count": 1,
      "metadata": {
        "id": "Xg2zbeSr4eiq"
      },
      "outputs": [],
      "source": [
        "# block 1\n",
        "\n",
        "# importing packages & libraries\n",
        "import tensorflow as tf\n",
        "import pandas as pd\n",
        "import matplotlib.pyplot as plt\n",
        "\n",
        "from tensorflow.keras.preprocessing.text import Tokenizer\n",
        "from tensorflow.keras.preprocessing.sequence import pad_sequences\n",
        "\n",
        "%matplotlib inline"
      ]
    },
    {
      "cell_type": "markdown",
      "metadata": {
        "id": "hvYwM1lr4eiq"
      },
      "source": [
        "## Get IMdb data"
      ]
    },
    {
      "cell_type": "code",
      "execution_count": 2,
      "metadata": {
        "id": "aMurW_j84eiq"
      },
      "outputs": [],
      "source": [
        "# block 2\n",
        "\n",
        "# reading and processing data\n",
        "url = 'https://raw.githubusercontent.com/uditdoshi/natural-language-processing-1/main/data/IMDB%20Dataset.csv'\n",
        "imdb_data = pd.read_csv(url)\n",
        "imdb_data[\"sentiment\"] = imdb_data[\"sentiment\"].map({\"positive\": 1, \"negative\":0})"
      ]
    },
    {
      "cell_type": "code",
      "execution_count": 3,
      "metadata": {
        "id": "XEcaqL_h4eir"
      },
      "outputs": [],
      "source": [
        "# block 3\n",
        "\n",
        "# defining train and test data sets\n",
        "imdb_train = imdb_data[\"review\"].values[:25000]\n",
        "imdb_test = imdb_data[\"review\"].values[25000:]\n",
        "\n",
        "imdb_train_labels = imdb_data[\"sentiment\"].values[:25000]\n",
        "imdb_test_labels = imdb_data[\"sentiment\"].values[25000:]"
      ]
    },
    {
      "cell_type": "code",
      "execution_count": 4,
      "metadata": {
        "id": "HKhjoU8n4eir",
        "outputId": "7fd43051-d2d2-43e2-e323-bee5e7d82930",
        "colab": {
          "base_uri": "https://localhost:8080/",
          "height": 160
        }
      },
      "outputs": [
        {
          "output_type": "execute_result",
          "data": {
            "text/plain": [
              "\"One of the other reviewers has mentioned that after watching just 1 Oz episode you'll be hooked. They are right, as this is exactly what happened with me.<br /><br />The first thing that struck me about Oz was its brutality and unflinching scenes of violence, which set in right from the word GO. Trust me, this is not a show for the faint hearted or timid. This show pulls no punches with regards to drugs, sex or violence. Its is hardcore, in the classic use of the word.<br /><br />It is called OZ as that is the nickname given to the Oswald Maximum Security State Penitentary. It focuses mainly on Emerald City, an experimental section of the prison where all the cells have glass fronts and face inwards, so privacy is not high on the agenda. Em City is home to many..Aryans, Muslims, gangstas, Latinos, Christians, Italians, Irish and more....so scuffles, death stares, dodgy dealings and shady agreements are never far away.<br /><br />I would say the main appeal of the show is due to the fact that it goes where other shows wouldn't dare. Forget pretty pictures painted for mainstream audiences, forget charm, forget romance...OZ doesn't mess around. The first episode I ever saw struck me as so nasty it was surreal, I couldn't say I was ready for it, but as I watched more, I developed a taste for Oz, and got accustomed to the high levels of graphic violence. Not just violence, but injustice (crooked guards who'll be sold out for a nickel, inmates who'll kill on order and get away with it, well mannered, middle class inmates being turned into prison bitches due to their lack of street skills or prison experience) Watching Oz, you may become comfortable with what is uncomfortable viewing....thats if you can get in touch with your darker side.\""
            ],
            "application/vnd.google.colaboratory.intrinsic+json": {
              "type": "string"
            }
          },
          "metadata": {},
          "execution_count": 4
        }
      ],
      "source": [
        "# block 4\n",
        "\n",
        "# checking train data\n",
        "imdb_train[0]"
      ]
    },
    {
      "cell_type": "markdown",
      "metadata": {
        "id": "YkNM7Gpv4eir"
      },
      "source": [
        "## Hyperparameters"
      ]
    },
    {
      "cell_type": "code",
      "execution_count": 5,
      "metadata": {
        "id": "mcHeYT9y4eir"
      },
      "outputs": [],
      "source": [
        "# block 5\n",
        "\n",
        "# listing hyperparameters makes it easier to quickly test different combinations\n",
        "# a shorter sentence than max_length it will be padded, longer sentences will be truncated\n",
        "vocab_size = 10000\n",
        "embedding_dim = 16\n",
        "max_length = 120  "
      ]
    },
    {
      "cell_type": "markdown",
      "metadata": {
        "id": "-t27n7Jl4eir"
      },
      "source": [
        "## Tokenize"
      ]
    },
    {
      "cell_type": "code",
      "execution_count": 6,
      "metadata": {
        "id": "ORvNPZXG4eir"
      },
      "outputs": [],
      "source": [
        "# block 6\n",
        "\n",
        "# defining tokenizer\n",
        "tokenizer = Tokenizer(num_words=10000, oov_token = \"<oov>\")\n",
        "tokenizer.fit_on_texts(imdb_train)\n",
        "word_index = tokenizer.word_index\n",
        "\n",
        "# converting words to numbers and pad for the neural network to use as input\n",
        "train_sequences = tokenizer.texts_to_sequences(imdb_train)\n",
        "train_padded = pad_sequences(train_sequences, maxlen=120, truncating=\"post\")\n",
        "\n",
        "# tokenized using the word_index learned from the training data\n",
        "testing_sequences = tokenizer.texts_to_sequences(imdb_test)\n",
        "test_padded = pad_sequences(testing_sequences, maxlen=120, truncating=\"post\")"
      ]
    },
    {
      "cell_type": "markdown",
      "metadata": {
        "id": "M0irxyPj4eir"
      },
      "source": [
        "### Simple RNN"
      ]
    },
    {
      "cell_type": "code",
      "execution_count": 7,
      "metadata": {
        "id": "zcC3X1ZM4eir",
        "outputId": "79e085e0-9485-46c2-e9c6-9c1cc446aa3f",
        "colab": {
          "base_uri": "https://localhost:8080/"
        }
      },
      "outputs": [
        {
          "output_type": "stream",
          "name": "stdout",
          "text": [
            "Model: \"sequential\"\n",
            "_________________________________________________________________\n",
            " Layer (type)                Output Shape              Param #   \n",
            "=================================================================\n",
            " embedding (Embedding)       (None, None, 64)          640000    \n",
            "                                                                 \n",
            " simple_rnn (SimpleRNN)      (None, 256)               82176     \n",
            "                                                                 \n",
            " dense (Dense)               (None, 1)                 257       \n",
            "                                                                 \n",
            "=================================================================\n",
            "Total params: 722,433\n",
            "Trainable params: 722,433\n",
            "Non-trainable params: 0\n",
            "_________________________________________________________________\n"
          ]
        }
      ],
      "source": [
        "# block 7\n",
        "\n",
        "# creasting model\n",
        "embedding_dim = 64\n",
        "\n",
        "model = tf.keras.Sequential([\n",
        "    tf.keras.layers.Embedding(vocab_size, embedding_dim),\n",
        "    tf.keras.layers.SimpleRNN(256),\n",
        "    tf.keras.layers.Dense(1, activation = 'sigmoid')])\n",
        "\n",
        "model.summary()"
      ]
    },
    {
      "cell_type": "code",
      "execution_count": 8,
      "metadata": {
        "id": "xW444hdA4eis"
      },
      "outputs": [],
      "source": [
        "# block 8\n",
        "\n",
        "# compiling model\n",
        "model.compile(loss='binary_crossentropy', optimizer='adam', metrics=['accuracy'])"
      ]
    },
    {
      "cell_type": "markdown",
      "metadata": {
        "id": "Bg6LZZ0h4eis"
      },
      "source": [
        "### Train the model"
      ]
    },
    {
      "cell_type": "code",
      "execution_count": 9,
      "metadata": {
        "id": "DMtyRLKO4eis",
        "outputId": "4fe4392a-62de-4b95-b372-8891eb73f8aa",
        "colab": {
          "base_uri": "https://localhost:8080/"
        }
      },
      "outputs": [
        {
          "output_type": "stream",
          "name": "stdout",
          "text": [
            "Epoch 1/10\n",
            "782/782 [==============================] - 138s 175ms/step - loss: 0.7047 - accuracy: 0.5058 - val_loss: 0.6933 - val_accuracy: 0.5013\n",
            "Epoch 2/10\n",
            "782/782 [==============================] - 129s 164ms/step - loss: 0.6947 - accuracy: 0.5156 - val_loss: 0.7103 - val_accuracy: 0.5002\n",
            "Epoch 3/10\n",
            "782/782 [==============================] - 129s 165ms/step - loss: 0.6666 - accuracy: 0.5908 - val_loss: 0.6464 - val_accuracy: 0.6327\n",
            "Epoch 4/10\n",
            "782/782 [==============================] - 130s 167ms/step - loss: 0.6004 - accuracy: 0.6732 - val_loss: 0.6228 - val_accuracy: 0.6784\n",
            "Epoch 5/10\n",
            "782/782 [==============================] - 126s 162ms/step - loss: 0.5704 - accuracy: 0.7033 - val_loss: 0.6963 - val_accuracy: 0.5517\n",
            "Epoch 6/10\n",
            "782/782 [==============================] - 125s 160ms/step - loss: 0.5861 - accuracy: 0.6770 - val_loss: 0.6003 - val_accuracy: 0.7098\n",
            "Epoch 7/10\n",
            "782/782 [==============================] - 128s 164ms/step - loss: 0.5332 - accuracy: 0.7422 - val_loss: 0.6807 - val_accuracy: 0.7158\n",
            "Epoch 8/10\n",
            "782/782 [==============================] - 125s 160ms/step - loss: 0.4870 - accuracy: 0.7794 - val_loss: 0.6344 - val_accuracy: 0.6852\n",
            "Epoch 9/10\n",
            "782/782 [==============================] - 126s 161ms/step - loss: 0.4998 - accuracy: 0.7710 - val_loss: 0.6426 - val_accuracy: 0.6765\n",
            "Epoch 10/10\n",
            "782/782 [==============================] - 128s 163ms/step - loss: 0.4892 - accuracy: 0.7723 - val_loss: 0.6865 - val_accuracy: 0.6968\n"
          ]
        }
      ],
      "source": [
        "# block 9\n",
        "\n",
        "# training model\n",
        "num_epochs = 10\n",
        "history = model.fit(train_padded, imdb_train_labels, epochs=num_epochs, \n",
        "                    validation_data=(test_padded, imdb_test_labels), validation_steps=30)"
      ]
    },
    {
      "cell_type": "markdown",
      "metadata": {
        "id": "8mtr6BOS4eis"
      },
      "source": [
        "### Make predictions on text samples"
      ]
    },
    {
      "cell_type": "code",
      "source": [
        "# block 10\n",
        "\n",
        "# predicting on a positive sample\n",
        "sample_text_to_predict = [\"The movie was cool. The animation and the graphics were out of this world. I would recommend this movie.\"]\n",
        "train_sequences = tokenizer.texts_to_sequences(sample_text_to_predict)\n",
        "pos_padded = pad_sequences(train_sequences, maxlen=20, truncating=\"post\")"
      ],
      "metadata": {
        "id": "kGfDM6Rv9bBz"
      },
      "execution_count": 10,
      "outputs": []
    },
    {
      "cell_type": "code",
      "execution_count": 11,
      "metadata": {
        "id": "A4TYqO4z4eis",
        "outputId": "64c5037b-9a01-4664-bab8-b121ef411545",
        "colab": {
          "base_uri": "https://localhost:8080/"
        }
      },
      "outputs": [
        {
          "output_type": "stream",
          "name": "stdout",
          "text": [
            "1/1 [==============================] - 0s 204ms/step\n",
            "[[0.80294436]]\n"
          ]
        }
      ],
      "source": [
        "# block 11\n",
        "\n",
        "# making prediction\n",
        "prediction = model.predict(pos_padded)\n",
        "print(prediction)"
      ]
    },
    {
      "cell_type": "code",
      "source": [
        "# block 12\n",
        "\n",
        "# predicting on a negative sample\n",
        "sample_text_to_predict = [\"The movie was not good. The animation and the graphics were terrible. I would not recommend this movie.\"]\n",
        "train_sequences = tokenizer.texts_to_sequences(sample_text_to_predict)\n",
        "neg_padded = pad_sequences(train_sequences, maxlen=20, truncating=\"post\")"
      ],
      "metadata": {
        "id": "RDsf3ADd9jOY"
      },
      "execution_count": 12,
      "outputs": []
    },
    {
      "cell_type": "code",
      "execution_count": 13,
      "metadata": {
        "id": "nk-aSOAm4eis",
        "outputId": "7c319dac-2e82-41c3-a54c-01f31329df4c",
        "colab": {
          "base_uri": "https://localhost:8080/"
        }
      },
      "outputs": [
        {
          "output_type": "stream",
          "name": "stdout",
          "text": [
            "1/1 [==============================] - 0s 18ms/step\n",
            "[[0.0938303]]\n"
          ]
        }
      ],
      "source": [
        "# block 13\n",
        "\n",
        "# making prediction\n",
        "prediction = model.predict(neg_padded)\n",
        "print(prediction)"
      ]
    },
    {
      "cell_type": "markdown",
      "metadata": {
        "id": "FEtWEIG44eis"
      },
      "source": [
        "### Plot Learning curves"
      ]
    },
    {
      "cell_type": "code",
      "execution_count": 14,
      "metadata": {
        "id": "apF_dzlF4eis",
        "outputId": "456640f8-f9d9-4132-ce25-4fcb2c46dc20",
        "colab": {
          "base_uri": "https://localhost:8080/",
          "height": 541
        }
      },
      "outputs": [
        {
          "output_type": "display_data",
          "data": {
            "text/plain": [
              "<Figure size 432x288 with 1 Axes>"
            ],
            "image/png": "[encoded data removed]"
          },
          "metadata": {
            "needs_background": "light"
          }
        },
        {
          "output_type": "display_data",
          "data": {
            "text/plain": [
              "<Figure size 432x288 with 1 Axes>"
            ],
            "image/png": "[encoded data removed]"
          },
          "metadata": {
            "needs_background": "light"
          }
        }
      ],
      "source": [
        "# block 14\n",
        "\n",
        "# defining plot function\n",
        "def plot_graphs(history, string):\n",
        "    plt.plot(history.history[string])\n",
        "    plt.plot(history.history['val_'+ string])\n",
        "    plt.xlabel(\"Epochs\")\n",
        "    plt.ylabel(string)\n",
        "    plt.legend([string, 'val_'+string])\n",
        "    plt.show()\n",
        "             \n",
        "plot_graphs(history,'accuracy')\n",
        "plot_graphs(history, 'loss')"
      ]
    },
    {
      "cell_type": "markdown",
      "metadata": {
        "id": "_rsy0OFn4eis"
      },
      "source": [
        "## LSTM"
      ]
    },
    {
      "cell_type": "code",
      "execution_count": 15,
      "metadata": {
        "id": "Fozw5J7E4eis",
        "outputId": "2dc35e91-8b72-4760-d981-6309f8e3ebf3",
        "colab": {
          "base_uri": "https://localhost:8080/"
        }
      },
      "outputs": [
        {
          "output_type": "stream",
          "name": "stdout",
          "text": [
            "Model: \"sequential_1\"\n",
            "_________________________________________________________________\n",
            " Layer (type)                Output Shape              Param #   \n",
            "=================================================================\n",
            " embedding_1 (Embedding)     (None, None, 64)          640000    \n",
            "                                                                 \n",
            " lstm (LSTM)                 (None, 64)                33024     \n",
            "                                                                 \n",
            " dense_1 (Dense)             (None, 64)                4160      \n",
            "                                                                 \n",
            " dense_2 (Dense)             (None, 1)                 65        \n",
            "                                                                 \n",
            "=================================================================\n",
            "Total params: 677,249\n",
            "Trainable params: 677,249\n",
            "Non-trainable params: 0\n",
            "_________________________________________________________________\n"
          ]
        }
      ],
      "source": [
        "# block 15\n",
        "\n",
        "# creating model\n",
        "model = tf.keras.Sequential([\n",
        "    tf.keras.layers.Embedding(vocab_size, 64),\n",
        "    tf.keras.layers.LSTM(64),\n",
        "    tf.keras.layers.Dense(64, activation = 'relu'),\n",
        "    tf.keras.layers.Dense(1, activation = 'sigmoid')])\n",
        "\n",
        "model.summary()"
      ]
    },
    {
      "cell_type": "code",
      "execution_count": 16,
      "metadata": {
        "id": "81zOKP3T4eit"
      },
      "outputs": [],
      "source": [
        "# block 16\n",
        "\n",
        "# compiling model\n",
        "model.compile(loss='binary_crossentropy',\n",
        "              optimizer=tf.keras.optimizers.Adam(1e-4),\n",
        "              metrics=['accuracy'])"
      ]
    },
    {
      "cell_type": "markdown",
      "metadata": {
        "id": "W85FUO_l4eit"
      },
      "source": [
        "### Train the model"
      ]
    },
    {
      "cell_type": "code",
      "execution_count": 17,
      "metadata": {
        "id": "vdZxHdgc4eit",
        "outputId": "fb99f531-f557-4d6c-f8c0-385df8c970e0",
        "colab": {
          "base_uri": "https://localhost:8080/"
        }
      },
      "outputs": [
        {
          "output_type": "stream",
          "name": "stdout",
          "text": [
            "Epoch 1/10\n",
            "782/782 [==============================] - 88s 105ms/step - loss: 0.5789 - accuracy: 0.6654 - val_loss: 0.4137 - val_accuracy: 0.8176\n",
            "Epoch 2/10\n",
            "782/782 [==============================] - 77s 99ms/step - loss: 0.3473 - accuracy: 0.8522 - val_loss: 0.3712 - val_accuracy: 0.8393\n",
            "Epoch 3/10\n",
            "782/782 [==============================] - 79s 101ms/step - loss: 0.2808 - accuracy: 0.8872 - val_loss: 0.3614 - val_accuracy: 0.8392\n",
            "Epoch 4/10\n",
            "782/782 [==============================] - 77s 98ms/step - loss: 0.2421 - accuracy: 0.9054 - val_loss: 0.3721 - val_accuracy: 0.8334\n",
            "Epoch 5/10\n",
            "782/782 [==============================] - 73s 93ms/step - loss: 0.2136 - accuracy: 0.9189 - val_loss: 0.4113 - val_accuracy: 0.8349\n",
            "Epoch 6/10\n",
            "782/782 [==============================] - 76s 97ms/step - loss: 0.1929 - accuracy: 0.9276 - val_loss: 0.4119 - val_accuracy: 0.8304\n",
            "Epoch 7/10\n",
            "782/782 [==============================] - 76s 97ms/step - loss: 0.1730 - accuracy: 0.9380 - val_loss: 0.4893 - val_accuracy: 0.8277\n",
            "Epoch 8/10\n",
            "782/782 [==============================] - 75s 96ms/step - loss: 0.1564 - accuracy: 0.9450 - val_loss: 0.5161 - val_accuracy: 0.8248\n",
            "Epoch 9/10\n",
            "782/782 [==============================] - 81s 103ms/step - loss: 0.1386 - accuracy: 0.9526 - val_loss: 0.5456 - val_accuracy: 0.8212\n",
            "Epoch 10/10\n",
            "782/782 [==============================] - 76s 97ms/step - loss: 0.1265 - accuracy: 0.9577 - val_loss: 0.6481 - val_accuracy: 0.8198\n"
          ]
        }
      ],
      "source": [
        "# block 17\n",
        "\n",
        "# training model\n",
        "epochs_num = 10\n",
        "history = model.fit(train_padded, imdb_train_labels, epochs=epochs_num,\n",
        "                    validation_data=(test_padded, imdb_test_labels), \n",
        "                    validation_steps=30)"
      ]
    },
    {
      "cell_type": "markdown",
      "metadata": {
        "id": "sXPpmRql4eit"
      },
      "source": [
        "### Make predictions on text samples"
      ]
    },
    {
      "cell_type": "code",
      "source": [
        "# block 18\n",
        "\n",
        "# predicting on a positive sample\n",
        "sample_text_to_predict = [\"The movie was cool. The animation and the graphics were out of this world. I would recommend this movie.\"]\n",
        "train_sequences = tokenizer.texts_to_sequences(sample_text_to_predict)\n",
        "pos_padded = pad_sequences(train_sequences, maxlen=20, truncating=\"post\")"
      ],
      "metadata": {
        "id": "lQA0VEjJ96MD"
      },
      "execution_count": 18,
      "outputs": []
    },
    {
      "cell_type": "code",
      "execution_count": 19,
      "metadata": {
        "id": "Gtjox0GV4eit",
        "outputId": "19226e02-d02b-49ee-83d3-27ae7c412693",
        "colab": {
          "base_uri": "https://localhost:8080/"
        }
      },
      "outputs": [
        {
          "output_type": "stream",
          "name": "stdout",
          "text": [
            "1/1 [==============================] - 0s 477ms/step\n",
            "[[0.6488033]]\n"
          ]
        }
      ],
      "source": [
        "# block 19\n",
        "\n",
        "# making prediction\n",
        "prediction = model.predict(pos_padded)\n",
        "print(prediction)"
      ]
    },
    {
      "cell_type": "code",
      "source": [
        "# block 20\n",
        "\n",
        "# predicting on a negative sample\n",
        "sample_text_to_predict = [\"The movie was not good. The animation and the graphics were terrible. I would not recommend this movie.\"]\n",
        "train_sequences = tokenizer.texts_to_sequences(sample_text_to_predict)\n",
        "neg_padded = pad_sequences(train_sequences, maxlen=20, truncating=\"post\")\n"
      ],
      "metadata": {
        "id": "XrvE4DpK-Bt0"
      },
      "execution_count": 20,
      "outputs": []
    },
    {
      "cell_type": "code",
      "execution_count": 21,
      "metadata": {
        "id": "bQlnnCsh4eit",
        "outputId": "4ebe1297-a406-4e1d-b2eb-0f39ac31d9ce",
        "colab": {
          "base_uri": "https://localhost:8080/"
        }
      },
      "outputs": [
        {
          "output_type": "stream",
          "name": "stdout",
          "text": [
            "1/1 [==============================] - 0s 19ms/step\n",
            "[[0.102297]]\n"
          ]
        }
      ],
      "source": [
        "# block 21\n",
        "\n",
        "# making prediction\n",
        "prediction = model.predict(neg_padded)\n",
        "print(prediction)"
      ]
    },
    {
      "cell_type": "markdown",
      "metadata": {
        "id": "HgbSngaG4eit"
      },
      "source": [
        "### Plot learning curves"
      ]
    },
    {
      "cell_type": "code",
      "execution_count": 22,
      "metadata": {
        "id": "tCz1g7ko4eit",
        "outputId": "e1acedc9-9e21-4dae-fac4-95d474b9835b",
        "colab": {
          "base_uri": "https://localhost:8080/",
          "height": 541
        }
      },
      "outputs": [
        {
          "output_type": "display_data",
          "data": {
            "text/plain": [
              "<Figure size 432x288 with 1 Axes>"
            ],
            "image/png": "[encoded data removed]"
          },
          "metadata": {
            "needs_background": "light"
          }
        },
        {
          "output_type": "display_data",
          "data": {
            "text/plain": [
              "<Figure size 432x288 with 1 Axes>"
            ],
            "image/png": "[encoded data removed]"
          },
          "metadata": {
            "needs_background": "light"
          }
        }
      ],
      "source": [
        "# block 22\n",
        "\n",
        "# plotting loss and accuracy\n",
        "plot_graphs(history, 'accuracy')\n",
        "plot_graphs(history, 'loss')"
      ]
    },
    {
      "cell_type": "markdown",
      "metadata": {
        "id": "1PjOyteS4eit"
      },
      "source": [
        "### Experimenting the LSTM model"
      ]
    },
    {
      "cell_type": "code",
      "execution_count": 23,
      "metadata": {
        "id": "ZGG7adsP4eit"
      },
      "outputs": [],
      "source": [
        "# block 23\n",
        "\n",
        "# creating reviews\n",
        "positive_review = [\"The movie was cool. The animation and the graphics were out of this world. I would recommend this movie.\"]\n",
        "negative_review = [\"The movie was not good. The animation and the graphics were terrible. I would not recommend this movie.\"]"
      ]
    },
    {
      "cell_type": "markdown",
      "metadata": {
        "id": "OpVxJbcu4eit"
      },
      "source": [
        "### Test your models on the positive review"
      ]
    },
    {
      "cell_type": "code",
      "source": [
        "# block 24\n",
        "\n",
        "# predicting on a positive review\n",
        "train_sequences = tokenizer.texts_to_sequences(positive_review)\n",
        "pos_padded = pad_sequences(train_sequences, maxlen=20, truncating=\"post\")"
      ],
      "metadata": {
        "id": "Jzx8zcF8-KvA"
      },
      "execution_count": 24,
      "outputs": []
    },
    {
      "cell_type": "code",
      "execution_count": 25,
      "metadata": {
        "id": "JS-hw7Dp4eit",
        "outputId": "1df0fb37-c54b-467e-c406-c109eec16075",
        "colab": {
          "base_uri": "https://localhost:8080/"
        }
      },
      "outputs": [
        {
          "output_type": "stream",
          "name": "stdout",
          "text": [
            "1/1 [==============================] - 0s 20ms/step\n",
            "[[0.6488033]]\n"
          ]
        }
      ],
      "source": [
        "# block 25\n",
        "\n",
        "# making prediction\n",
        "prediction = model.predict(pos_padded)\n",
        "print(prediction)"
      ]
    },
    {
      "cell_type": "markdown",
      "metadata": {
        "id": "Vh0eMqaO4eit"
      },
      "source": [
        "### Test your models on the negative review"
      ]
    },
    {
      "cell_type": "code",
      "source": [
        "# block 26\n",
        "\n",
        "# predicting on a negative review\n",
        "train_sequences = tokenizer.texts_to_sequences(negative_review)\n",
        "pos_padded = pad_sequences(train_sequences, maxlen=20, truncating=\"post\")"
      ],
      "metadata": {
        "id": "9N3DyWyP-Qzy"
      },
      "execution_count": 26,
      "outputs": []
    },
    {
      "cell_type": "code",
      "execution_count": 27,
      "metadata": {
        "id": "PEP2boGe4eit",
        "outputId": "ed7773f5-1082-4c29-b4f2-d2f46f53c283",
        "colab": {
          "base_uri": "https://localhost:8080/"
        }
      },
      "outputs": [
        {
          "output_type": "stream",
          "name": "stdout",
          "text": [
            "1/1 [==============================] - 0s 56ms/step\n",
            "[[0.102297]]\n"
          ]
        }
      ],
      "source": [
        "# block 27\n",
        "\n",
        "# making prediction\n",
        "prediction = model.predict(pos_padded)\n",
        "print(prediction)"
      ]
    },
    {
      "cell_type": "code",
      "execution_count": null,
      "metadata": {
        "id": "RJNKqi434eit"
      },
      "outputs": [],
      "source": []
    }
  ],
  "metadata": {
    "kernelspec": {
      "display_name": "Python 3",
      "language": "python",
      "name": "python3"
    },
    "language_info": {
      "codemirror_mode": {
        "name": "ipython",
        "version": 3
      },
      "file_extension": ".py",
      "mimetype": "text/x-python",
      "name": "python",
      "nbconvert_exporter": "python",
      "pygments_lexer": "ipython3",
      "version": "3.7.3"
    },
    "colab": {
      "provenance": []
    }
  },
  "nbformat": 4,
  "nbformat_minor": 0
}