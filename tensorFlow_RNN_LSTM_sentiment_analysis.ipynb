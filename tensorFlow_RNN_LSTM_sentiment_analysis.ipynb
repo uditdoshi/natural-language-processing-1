{
  "cells": [
    {
      "cell_type": "markdown",
      "metadata": {
        "id": "zTDuLfp54eip"
      },
      "source": [
        "# Recurrent Neural Network"
      ]
    },
    {
      "cell_type": "code",
      "execution_count": 2,
      "metadata": {
        "id": "Xg2zbeSr4eiq"
      },
      "outputs": [],
      "source": [
        "# block 1\n",
        "\n",
        "# importing packages & libraries\n",
        "import tensorflow as tf\n",
        "import pandas as pd\n",
        "import matplotlib.pyplot as plt\n",
        "\n",
        "from tensorflow.keras.preprocessing.text import Tokenizer\n",
        "from tensorflow.keras.preprocessing.sequence import pad_sequences\n",
        "\n",
        "%matplotlib inline"
      ]
    },
    {
      "cell_type": "markdown",
      "metadata": {
        "id": "hvYwM1lr4eiq"
      },
      "source": [
        "## Get IMdb data"
      ]
    },
    {
      "cell_type": "code",
      "execution_count": 3,
      "metadata": {
        "id": "aMurW_j84eiq"
      },
      "outputs": [],
      "source": [
        "# block 2\n",
        "\n",
        "# reading and processing data\n",
        "url = 'https://raw.githubusercontent.com/uditdoshi/natural-language-processing-1/main/data/IMDB%20Dataset.csv'\n",
        "imdb_data = pd.read_csv(url)\n",
        "imdb_data[\"sentiment\"] = imdb_data[\"sentiment\"].map({\"positive\": 1, \"negative\":0})"
      ]
    },
    {
      "cell_type": "code",
      "execution_count": 4,
      "metadata": {
        "id": "XEcaqL_h4eir"
      },
      "outputs": [],
      "source": [
        "# block 3\n",
        "\n",
        "# defining train and test data sets\n",
        "imdb_train = imdb_data[\"review\"].values[:25000]\n",
        "imdb_test = imdb_data[\"review\"].values[25000:]\n",
        "\n",
        "imdb_train_labels = imdb_data[\"sentiment\"].values[:25000]\n",
        "imdb_test_labels = imdb_data[\"sentiment\"].values[25000:]"
      ]
    },
    {
      "cell_type": "code",
      "execution_count": 5,
      "metadata": {
        "id": "HKhjoU8n4eir",
        "outputId": "f7dc5ab7-1dab-442c-93d8-3895a3731379",
        "colab": {
          "base_uri": "https://localhost:8080/",
          "height": 160
        }
      },
      "outputs": [
        {
          "output_type": "execute_result",
          "data": {
            "text/plain": [
              "\"One of the other reviewers has mentioned that after watching just 1 Oz episode you'll be hooked. They are right, as this is exactly what happened with me.<br /><br />The first thing that struck me about Oz was its brutality and unflinching scenes of violence, which set in right from the word GO. Trust me, this is not a show for the faint hearted or timid. This show pulls no punches with regards to drugs, sex or violence. Its is hardcore, in the classic use of the word.<br /><br />It is called OZ as that is the nickname given to the Oswald Maximum Security State Penitentary. It focuses mainly on Emerald City, an experimental section of the prison where all the cells have glass fronts and face inwards, so privacy is not high on the agenda. Em City is home to many..Aryans, Muslims, gangstas, Latinos, Christians, Italians, Irish and more....so scuffles, death stares, dodgy dealings and shady agreements are never far away.<br /><br />I would say the main appeal of the show is due to the fact that it goes where other shows wouldn't dare. Forget pretty pictures painted for mainstream audiences, forget charm, forget romance...OZ doesn't mess around. The first episode I ever saw struck me as so nasty it was surreal, I couldn't say I was ready for it, but as I watched more, I developed a taste for Oz, and got accustomed to the high levels of graphic violence. Not just violence, but injustice (crooked guards who'll be sold out for a nickel, inmates who'll kill on order and get away with it, well mannered, middle class inmates being turned into prison bitches due to their lack of street skills or prison experience) Watching Oz, you may become comfortable with what is uncomfortable viewing....thats if you can get in touch with your darker side.\""
            ],
            "application/vnd.google.colaboratory.intrinsic+json": {
              "type": "string"
            }
          },
          "metadata": {},
          "execution_count": 5
        }
      ],
      "source": [
        "# block 4\n",
        "\n",
        "# checking train data\n",
        "imdb_train[0]"
      ]
    },
    {
      "cell_type": "markdown",
      "metadata": {
        "id": "YkNM7Gpv4eir"
      },
      "source": [
        "## Hyperparameters"
      ]
    },
    {
      "cell_type": "code",
      "execution_count": 6,
      "metadata": {
        "id": "mcHeYT9y4eir"
      },
      "outputs": [],
      "source": [
        "# block 5\n",
        "\n",
        "# listing hyperparameters makes it easier to quickly test different combinations\n",
        "# a shorter sentence than max_length it will be padded, longer sentences will be truncated\n",
        "vocab_size = 10000\n",
        "embedding_dim = 16\n",
        "max_length = 120  "
      ]
    },
    {
      "cell_type": "markdown",
      "metadata": {
        "id": "-t27n7Jl4eir"
      },
      "source": [
        "## Tokenize"
      ]
    },
    {
      "cell_type": "code",
      "execution_count": 7,
      "metadata": {
        "id": "ORvNPZXG4eir"
      },
      "outputs": [],
      "source": [
        "# block 6\n",
        "\n",
        "# defining tokenizer\n",
        "tokenizer = Tokenizer(num_words=10000, oov_token = \"<oov>\")\n",
        "tokenizer.fit_on_texts(imdb_train)\n",
        "word_index = tokenizer.word_index\n",
        "\n",
        "# converting words to numbers and pad for the neural network to use as input\n",
        "train_sequences = tokenizer.texts_to_sequences(imdb_train)\n",
        "train_padded = pad_sequences(train_sequences, maxlen=120, truncating=\"post\")\n",
        "\n",
        "# tokenized using the word_index learned from the training data\n",
        "testing_sequences = tokenizer.texts_to_sequences(imdb_test)\n",
        "test_padded = pad_sequences(testing_sequences, maxlen=120, truncating=\"post\")"
      ]
    },
    {
      "cell_type": "markdown",
      "metadata": {
        "id": "M0irxyPj4eir"
      },
      "source": [
        "### Simple RNN"
      ]
    },
    {
      "cell_type": "code",
      "execution_count": 8,
      "metadata": {
        "id": "zcC3X1ZM4eir",
        "outputId": "601cae52-c115-48f9-c0f5-32e6953d28a0",
        "colab": {
          "base_uri": "https://localhost:8080/"
        }
      },
      "outputs": [
        {
          "output_type": "stream",
          "name": "stdout",
          "text": [
            "Model: \"sequential\"\n",
            "_________________________________________________________________\n",
            " Layer (type)                Output Shape              Param #   \n",
            "=================================================================\n",
            " embedding (Embedding)       (None, None, 64)          640000    \n",
            "                                                                 \n",
            " simple_rnn (SimpleRNN)      (None, 256)               82176     \n",
            "                                                                 \n",
            " dense (Dense)               (None, 1)                 257       \n",
            "                                                                 \n",
            "=================================================================\n",
            "Total params: 722,433\n",
            "Trainable params: 722,433\n",
            "Non-trainable params: 0\n",
            "_________________________________________________________________\n"
          ]
        }
      ],
      "source": [
        "# block 7\n",
        "\n",
        "# creasting model\n",
        "embedding_dim = 64\n",
        "\n",
        "model = tf.keras.Sequential([\n",
        "    tf.keras.layers.Embedding(vocab_size, embedding_dim),\n",
        "    tf.keras.layers.SimpleRNN(256),\n",
        "    tf.keras.layers.Dense(1, activation = 'sigmoid')])\n",
        "\n",
        "model.summary()"
      ]
    },
    {
      "cell_type": "code",
      "execution_count": 9,
      "metadata": {
        "id": "xW444hdA4eis"
      },
      "outputs": [],
      "source": [
        "# block 8\n",
        "\n",
        "# compiling model\n",
        "model.compile(loss='binary_crossentropy', optimizer='adam', metrics=['accuracy'])"
      ]
    },
    {
      "cell_type": "markdown",
      "metadata": {
        "id": "Bg6LZZ0h4eis"
      },
      "source": [
        "### Train the model"
      ]
    },
    {
      "cell_type": "code",
      "execution_count": 10,
      "metadata": {
        "id": "DMtyRLKO4eis",
        "outputId": "aaca79ca-090b-43a4-e325-06a62a3cb29e",
        "colab": {
          "base_uri": "https://localhost:8080/"
        }
      },
      "outputs": [
        {
          "output_type": "stream",
          "name": "stdout",
          "text": [
            "Epoch 1/10\n",
            "782/782 [==============================] - 112s 141ms/step - loss: 0.6980 - accuracy: 0.5138 - val_loss: 0.6851 - val_accuracy: 0.5333\n",
            "Epoch 2/10\n",
            "782/782 [==============================] - 113s 144ms/step - loss: 0.6327 - accuracy: 0.6386 - val_loss: 0.6828 - val_accuracy: 0.5579\n",
            "Epoch 3/10\n",
            "782/782 [==============================] - 111s 142ms/step - loss: 0.5912 - accuracy: 0.6840 - val_loss: 0.6555 - val_accuracy: 0.6106\n",
            "Epoch 4/10\n",
            "782/782 [==============================] - 112s 143ms/step - loss: 0.5506 - accuracy: 0.7257 - val_loss: 0.6015 - val_accuracy: 0.6950\n",
            "Epoch 5/10\n",
            "782/782 [==============================] - 111s 142ms/step - loss: 0.5053 - accuracy: 0.7676 - val_loss: 0.6196 - val_accuracy: 0.6649\n",
            "Epoch 6/10\n",
            "782/782 [==============================] - 112s 143ms/step - loss: 0.5163 - accuracy: 0.7572 - val_loss: 0.6447 - val_accuracy: 0.6727\n",
            "Epoch 7/10\n",
            "782/782 [==============================] - 109s 140ms/step - loss: 0.4782 - accuracy: 0.7875 - val_loss: 0.6370 - val_accuracy: 0.6932\n",
            "Epoch 8/10\n",
            "782/782 [==============================] - 115s 146ms/step - loss: 0.4721 - accuracy: 0.7914 - val_loss: 0.6577 - val_accuracy: 0.6500\n",
            "Epoch 9/10\n",
            "782/782 [==============================] - 114s 145ms/step - loss: 0.4504 - accuracy: 0.8086 - val_loss: 0.6523 - val_accuracy: 0.6675\n",
            "Epoch 10/10\n",
            "782/782 [==============================] - 114s 146ms/step - loss: 0.4516 - accuracy: 0.8064 - val_loss: 0.6560 - val_accuracy: 0.6270\n"
          ]
        }
      ],
      "source": [
        "# block 9\n",
        "\n",
        "# training model\n",
        "num_epochs = 10\n",
        "history = model.fit(train_padded, imdb_train_labels, epochs=num_epochs, \n",
        "                    validation_data=(test_padded, imdb_test_labels), validation_steps=30)"
      ]
    },
    {
      "cell_type": "markdown",
      "metadata": {
        "id": "8mtr6BOS4eis"
      },
      "source": [
        "### Make predictions on text samples"
      ]
    },
    {
      "cell_type": "code",
      "source": [
        "# block 10\n",
        "\n",
        "# predicting on a positive sample\n",
        "sample_text_to_predict = [\"The movie was cool. The animation and the graphics were out of this world. I would recommend this movie.\"]\n",
        "train_sequences = tokenizer.texts_to_sequences(sample_text_to_predict)\n",
        "pos_padded = pad_sequences(train_sequences, maxlen=20, truncating=\"post\")"
      ],
      "metadata": {
        "id": "kGfDM6Rv9bBz"
      },
      "execution_count": 11,
      "outputs": []
    },
    {
      "cell_type": "code",
      "execution_count": 12,
      "metadata": {
        "id": "A4TYqO4z4eis",
        "outputId": "af3a23e9-aec6-415c-85f8-8289577f0087",
        "colab": {
          "base_uri": "https://localhost:8080/"
        }
      },
      "outputs": [
        {
          "output_type": "stream",
          "name": "stdout",
          "text": [
            "1/1 [==============================] - 0s 170ms/step\n",
            "[[0.604322]]\n"
          ]
        }
      ],
      "source": [
        "# block 11\n",
        "\n",
        "# making prediction\n",
        "prediction = model.predict(pos_padded)\n",
        "print(prediction)"
      ]
    },
    {
      "cell_type": "code",
      "source": [
        "# block 12\n",
        "\n",
        "# predicting on a negative sample\n",
        "sample_text_to_predict = [\"The movie was not good. The animation and the graphics were terrible. I would not recommend this movie.\"]\n",
        "train_sequences = tokenizer.texts_to_sequences(sample_text_to_predict)\n",
        "neg_padded = pad_sequences(train_sequences, maxlen=20, truncating=\"post\")"
      ],
      "metadata": {
        "id": "RDsf3ADd9jOY"
      },
      "execution_count": 13,
      "outputs": []
    },
    {
      "cell_type": "code",
      "execution_count": 14,
      "metadata": {
        "id": "nk-aSOAm4eis",
        "outputId": "b1edb119-04f0-47bf-ff0e-e6b4fc3e8d4a",
        "colab": {
          "base_uri": "https://localhost:8080/"
        }
      },
      "outputs": [
        {
          "output_type": "stream",
          "name": "stdout",
          "text": [
            "1/1 [==============================] - 0s 16ms/step\n",
            "[[0.5113582]]\n"
          ]
        }
      ],
      "source": [
        "# block 13\n",
        "\n",
        "# making prediction\n",
        "prediction = model.predict(neg_padded)\n",
        "print(prediction)"
      ]
    },
    {
      "cell_type": "markdown",
      "metadata": {
        "id": "FEtWEIG44eis"
      },
      "source": [
        "### Plot Learning curves"
      ]
    },
    {
      "cell_type": "code",
      "execution_count": 15,
      "metadata": {
        "id": "apF_dzlF4eis",
        "outputId": "49e787a9-f67d-4cf4-e1e7-8ad95fcc1598",
        "colab": {
          "base_uri": "https://localhost:8080/",
          "height": 541
        }
      },
      "outputs": [
        {
          "output_type": "display_data",
          "data": {
            "text/plain": [
              "<Figure size 432x288 with 1 Axes>"
            ],
            "image/png": "[encoded data removed]"
          },
          "metadata": {
            "needs_background": "light"
          }
        },
        {
          "output_type": "display_data",
          "data": {
            "text/plain": [
              "<Figure size 432x288 with 1 Axes>"
            ],
            "image/png": "[encoded data removed]"
          },
          "metadata": {
            "needs_background": "light"
          }
        }
      ],
      "source": [
        "# block 14\n",
        "\n",
        "# defining plot function\n",
        "def plot_graphs(history, string):\n",
        "    plt.plot(history.history[string])\n",
        "    plt.plot(history.history['val_'+ string])\n",
        "    plt.xlabel(\"Epochs\")\n",
        "    plt.ylabel(string)\n",
        "    plt.legend([string, 'val_'+string])\n",
        "    plt.show()\n",
        "             \n",
        "plot_graphs(history,'accuracy')\n",
        "plot_graphs(history, 'loss')"
      ]
    },
    {
      "cell_type": "markdown",
      "metadata": {
        "id": "_rsy0OFn4eis"
      },
      "source": [
        "## LSTM"
      ]
    },
    {
      "cell_type": "code",
      "execution_count": 16,
      "metadata": {
        "id": "Fozw5J7E4eis",
        "outputId": "f0e23a89-a1d9-4579-ff42-2a551f9f344f",
        "colab": {
          "base_uri": "https://localhost:8080/"
        }
      },
      "outputs": [
        {
          "output_type": "stream",
          "name": "stdout",
          "text": [
            "Model: \"sequential_1\"\n",
            "_________________________________________________________________\n",
            " Layer (type)                Output Shape              Param #   \n",
            "=================================================================\n",
            " embedding_1 (Embedding)     (None, None, 64)          640000    \n",
            "                                                                 \n",
            " lstm (LSTM)                 (None, 64)                33024     \n",
            "                                                                 \n",
            " dense_1 (Dense)             (None, 64)                4160      \n",
            "                                                                 \n",
            " dense_2 (Dense)             (None, 1)                 65        \n",
            "                                                                 \n",
            "=================================================================\n",
            "Total params: 677,249\n",
            "Trainable params: 677,249\n",
            "Non-trainable params: 0\n",
            "_________________________________________________________________\n"
          ]
        }
      ],
      "source": [
        "# block 15\n",
        "\n",
        "# creating model\n",
        "model = tf.keras.Sequential([\n",
        "    tf.keras.layers.Embedding(vocab_size, 64),\n",
        "    tf.keras.layers.LSTM(64),\n",
        "    tf.keras.layers.Dense(64, activation = 'relu'),\n",
        "    tf.keras.layers.Dense(1, activation = 'sigmoid')])\n",
        "\n",
        "model.summary()"
      ]
    },
    {
      "cell_type": "code",
      "execution_count": 17,
      "metadata": {
        "id": "81zOKP3T4eit"
      },
      "outputs": [],
      "source": [
        "# block 16\n",
        "\n",
        "# compiling model\n",
        "model.compile(loss='binary_crossentropy',\n",
        "              optimizer=tf.keras.optimizers.Adam(1e-4),\n",
        "              metrics=['accuracy'])"
      ]
    },
    {
      "cell_type": "markdown",
      "metadata": {
        "id": "W85FUO_l4eit"
      },
      "source": [
        "### Train the model"
      ]
    },
    {
      "cell_type": "code",
      "execution_count": 18,
      "metadata": {
        "id": "vdZxHdgc4eit",
        "outputId": "98e7f4e3-9201-473b-d174-f0970797d4f0",
        "colab": {
          "base_uri": "https://localhost:8080/"
        }
      },
      "outputs": [
        {
          "output_type": "stream",
          "name": "stdout",
          "text": [
            "Epoch 1/5\n",
            "782/782 [==============================] - 72s 89ms/step - loss: 0.5918 - accuracy: 0.6558 - val_loss: 0.4409 - val_accuracy: 0.8017\n",
            "Epoch 2/5\n",
            "782/782 [==============================] - 69s 89ms/step - loss: 0.3622 - accuracy: 0.8482 - val_loss: 0.3896 - val_accuracy: 0.8247\n",
            "Epoch 3/5\n",
            "782/782 [==============================] - 71s 91ms/step - loss: 0.2856 - accuracy: 0.8838 - val_loss: 0.3797 - val_accuracy: 0.8391\n",
            "Epoch 4/5\n",
            "782/782 [==============================] - 68s 87ms/step - loss: 0.2439 - accuracy: 0.9057 - val_loss: 0.3849 - val_accuracy: 0.8378\n",
            "Epoch 5/5\n",
            "782/782 [==============================] - 69s 88ms/step - loss: 0.2134 - accuracy: 0.9186 - val_loss: 0.4820 - val_accuracy: 0.8285\n"
          ]
        }
      ],
      "source": [
        "# block 17\n",
        "\n",
        "# training model\n",
        "epochs_num = 5\n",
        "history = model.fit(train_padded, imdb_train_labels, epochs=epochs_num,\n",
        "                    validation_data=(test_padded, imdb_test_labels), \n",
        "                    validation_steps=30)"
      ]
    },
    {
      "cell_type": "markdown",
      "metadata": {
        "id": "sXPpmRql4eit"
      },
      "source": [
        "### Make predictions on text samples"
      ]
    },
    {
      "cell_type": "code",
      "source": [
        "# block 18\n",
        "\n",
        "# predicting on a positive sample\n",
        "sample_text_to_predict = [\"The movie was cool. The animation and the graphics were out of this world. I would recommend this movie.\"]\n",
        "train_sequences = tokenizer.texts_to_sequences(sample_text_to_predict)\n",
        "pos_padded = pad_sequences(train_sequences, maxlen=20, truncating=\"post\")"
      ],
      "metadata": {
        "id": "lQA0VEjJ96MD"
      },
      "execution_count": 19,
      "outputs": []
    },
    {
      "cell_type": "code",
      "execution_count": 20,
      "metadata": {
        "id": "Gtjox0GV4eit",
        "outputId": "4737f81f-62bd-4f72-aa71-8472af87adcc",
        "colab": {
          "base_uri": "https://localhost:8080/"
        }
      },
      "outputs": [
        {
          "output_type": "stream",
          "name": "stdout",
          "text": [
            "1/1 [==============================] - 0s 414ms/step\n",
            "[[0.614709]]\n"
          ]
        }
      ],
      "source": [
        "# block 19\n",
        "\n",
        "# making prediction\n",
        "prediction = model.predict(pos_padded)\n",
        "print(prediction)"
      ]
    },
    {
      "cell_type": "code",
      "source": [
        "# block 20\n",
        "\n",
        "# predicting on a negative sample\n",
        "sample_text_to_predict = [\"The movie was not good. The animation and the graphics were terrible. I would not recommend this movie.\"]\n",
        "train_sequences = tokenizer.texts_to_sequences(sample_text_to_predict)\n",
        "neg_padded = pad_sequences(train_sequences, maxlen=20, truncating=\"post\")\n"
      ],
      "metadata": {
        "id": "XrvE4DpK-Bt0"
      },
      "execution_count": 21,
      "outputs": []
    },
    {
      "cell_type": "code",
      "execution_count": 22,
      "metadata": {
        "id": "bQlnnCsh4eit",
        "outputId": "ba86254b-f631-449c-b9d8-d3df8792c050",
        "colab": {
          "base_uri": "https://localhost:8080/"
        }
      },
      "outputs": [
        {
          "output_type": "stream",
          "name": "stdout",
          "text": [
            "1/1 [==============================] - 0s 17ms/step\n",
            "[[0.23893781]]\n"
          ]
        }
      ],
      "source": [
        "# block 21\n",
        "\n",
        "# making prediction\n",
        "prediction = model.predict(neg_padded)\n",
        "print(prediction)"
      ]
    },
    {
      "cell_type": "markdown",
      "metadata": {
        "id": "HgbSngaG4eit"
      },
      "source": [
        "### Plot learning curves"
      ]
    },
    {
      "cell_type": "code",
      "execution_count": 23,
      "metadata": {
        "id": "tCz1g7ko4eit",
        "outputId": "c20bccb2-e955-4b72-d56b-f5c3793d9221",
        "colab": {
          "base_uri": "https://localhost:8080/",
          "height": 541
        }
      },
      "outputs": [
        {
          "output_type": "display_data",
          "data": {
            "text/plain": [
              "<Figure size 432x288 with 1 Axes>"
            ],
            "image/png": "[encoded data removed]"
          },
          "metadata": {
            "needs_background": "light"
          }
        },
        {
          "output_type": "display_data",
          "data": {
            "text/plain": [
              "<Figure size 432x288 with 1 Axes>"
            ],
            "image/png": "[encoded data removed]"
          },
          "metadata": {
            "needs_background": "light"
          }
        }
      ],
      "source": [
        "# block 22\n",
        "\n",
        "# plotting loss and accuracy\n",
        "plot_graphs(history, 'accuracy')\n",
        "plot_graphs(history, 'loss')"
      ]
    },
    {
      "cell_type": "markdown",
      "metadata": {
        "id": "1PjOyteS4eit"
      },
      "source": [
        "### Experimenting the LSTM model"
      ]
    },
    {
      "cell_type": "code",
      "execution_count": 24,
      "metadata": {
        "id": "ZGG7adsP4eit"
      },
      "outputs": [],
      "source": [
        "# block 23\n",
        "\n",
        "# creating reviews\n",
        "positive_review = [\"The movie was cool. The animation and the graphics were out of this world. I would recommend this movie.\"]\n",
        "negative_review = [\"The movie was not good. The animation and the graphics were terrible. I would not recommend this movie.\"]"
      ]
    },
    {
      "cell_type": "markdown",
      "metadata": {
        "id": "OpVxJbcu4eit"
      },
      "source": [
        "### Test your models on the positive review"
      ]
    },
    {
      "cell_type": "code",
      "source": [
        "# block 24\n",
        "\n",
        "# predicting on a positive review\n",
        "train_sequences = tokenizer.texts_to_sequences(positive_review)\n",
        "pos_padded = pad_sequences(train_sequences, maxlen=20, truncating=\"post\")"
      ],
      "metadata": {
        "id": "Jzx8zcF8-KvA"
      },
      "execution_count": 25,
      "outputs": []
    },
    {
      "cell_type": "code",
      "execution_count": 26,
      "metadata": {
        "id": "JS-hw7Dp4eit",
        "outputId": "058533df-91cc-4019-c577-39973964aa94",
        "colab": {
          "base_uri": "https://localhost:8080/"
        }
      },
      "outputs": [
        {
          "output_type": "stream",
          "name": "stdout",
          "text": [
            "1/1 [==============================] - 0s 16ms/step\n",
            "[[0.614709]]\n"
          ]
        }
      ],
      "source": [
        "# block 25\n",
        "\n",
        "# making prediction\n",
        "prediction = model.predict(pos_padded)\n",
        "print(prediction)"
      ]
    },
    {
      "cell_type": "markdown",
      "metadata": {
        "id": "Vh0eMqaO4eit"
      },
      "source": [
        "### Test your models on the negative review"
      ]
    },
    {
      "cell_type": "code",
      "source": [
        "# block 26\n",
        "\n",
        "# predicting on a negative review\n",
        "train_sequences = tokenizer.texts_to_sequences(negative_review)\n",
        "pos_padded = pad_sequences(train_sequences, maxlen=20, truncating=\"post\")"
      ],
      "metadata": {
        "id": "9N3DyWyP-Qzy"
      },
      "execution_count": 27,
      "outputs": []
    },
    {
      "cell_type": "code",
      "execution_count": 28,
      "metadata": {
        "id": "PEP2boGe4eit",
        "outputId": "3d89d759-9e7c-45d7-b28f-6a9583351fa6",
        "colab": {
          "base_uri": "https://localhost:8080/"
        }
      },
      "outputs": [
        {
          "output_type": "stream",
          "name": "stdout",
          "text": [
            "1/1 [==============================] - 0s 16ms/step\n",
            "[[0.23893781]]\n"
          ]
        }
      ],
      "source": [
        "# block 27\n",
        "\n",
        "# making prediction\n",
        "prediction = model.predict(pos_padded)\n",
        "print(prediction)"
      ]
    },
    {
      "cell_type": "code",
      "execution_count": null,
      "metadata": {
        "id": "RJNKqi434eit"
      },
      "outputs": [],
      "source": []
    }
  ],
  "metadata": {
    "kernelspec": {
      "display_name": "Python 3",
      "language": "python",
      "name": "python3"
    },
    "language_info": {
      "codemirror_mode": {
        "name": "ipython",
        "version": 3
      },
      "file_extension": ".py",
      "mimetype": "text/x-python",
      "name": "python",
      "nbconvert_exporter": "python",
      "pygments_lexer": "ipython3",
      "version": "3.7.3"
    },
    "colab": {
      "provenance": []
    }
  },
  "nbformat": 4,
  "nbformat_minor": 0
}